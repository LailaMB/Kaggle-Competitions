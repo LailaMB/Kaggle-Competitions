{
 "cells": [
  {
   "cell_type": "code",
   "execution_count": 1,
   "metadata": {
    "_cell_guid": "b1076dfc-b9ad-4769-8c92-a6c4dae69d19",
    "_uuid": "8f2839f25d086af736a60e9eeb907d3b93b6e0e5"
   },
   "outputs": [
    {
     "name": "stdout",
     "output_type": "stream",
     "text": [
      "['test', 'train', 'train.csv', 'sample_submission.csv']\n"
     ]
    },
    {
     "name": "stderr",
     "output_type": "stream",
     "text": [
      "Using TensorFlow backend.\n"
     ]
    }
   ],
   "source": [
    "import numpy as np # linear algebra\n",
    "import pandas as pd # data processing, CSV file I/O (e.g. pd.read_csv)\n",
    "import matplotlib.pyplot as plt\n",
    "\n",
    "import os\n",
    "print(os.listdir(\"../input\"))\n",
    "\n",
    "import keras\n",
    "from keras.preprocessing.image import load_img, img_to_array\n",
    "from keras.layers import Dense, Conv2D, Activation,BatchNormalization, MaxPooling2D, Dropout, Flatten\n",
    "from keras.models import load_model, Sequential\n",
    "from keras.layers.advanced_activations import LeakyReLU\n",
    "\n",
    "\n",
    "from tqdm import tqdm\n",
    "import gc\n"
   ]
  },
  {
   "cell_type": "markdown",
   "metadata": {},
   "source": [
    "### Read Data"
   ]
  },
  {
   "cell_type": "code",
   "execution_count": 2,
   "metadata": {},
   "outputs": [
    {
     "data": {
      "text/html": [
       "<div>\n",
       "<style scoped>\n",
       "    .dataframe tbody tr th:only-of-type {\n",
       "        vertical-align: middle;\n",
       "    }\n",
       "\n",
       "    .dataframe tbody tr th {\n",
       "        vertical-align: top;\n",
       "    }\n",
       "\n",
       "    .dataframe thead th {\n",
       "        text-align: right;\n",
       "    }\n",
       "</style>\n",
       "<table border=\"1\" class=\"dataframe\">\n",
       "  <thead>\n",
       "    <tr style=\"text-align: right;\">\n",
       "      <th></th>\n",
       "      <th>id</th>\n",
       "      <th>has_cactus</th>\n",
       "    </tr>\n",
       "  </thead>\n",
       "  <tbody>\n",
       "    <tr>\n",
       "      <th>0</th>\n",
       "      <td>0004be2cfeaba1c0361d39e2b000257b.jpg</td>\n",
       "      <td>1</td>\n",
       "    </tr>\n",
       "    <tr>\n",
       "      <th>1</th>\n",
       "      <td>000c8a36845c0208e833c79c1bffedd1.jpg</td>\n",
       "      <td>1</td>\n",
       "    </tr>\n",
       "    <tr>\n",
       "      <th>2</th>\n",
       "      <td>000d1e9a533f62e55c289303b072733d.jpg</td>\n",
       "      <td>1</td>\n",
       "    </tr>\n",
       "    <tr>\n",
       "      <th>3</th>\n",
       "      <td>0011485b40695e9138e92d0b3fb55128.jpg</td>\n",
       "      <td>1</td>\n",
       "    </tr>\n",
       "    <tr>\n",
       "      <th>4</th>\n",
       "      <td>0014d7a11e90b62848904c1418fc8cf2.jpg</td>\n",
       "      <td>1</td>\n",
       "    </tr>\n",
       "  </tbody>\n",
       "</table>\n",
       "</div>"
      ],
      "text/plain": [
       "                                     id  has_cactus\n",
       "0  0004be2cfeaba1c0361d39e2b000257b.jpg           1\n",
       "1  000c8a36845c0208e833c79c1bffedd1.jpg           1\n",
       "2  000d1e9a533f62e55c289303b072733d.jpg           1\n",
       "3  0011485b40695e9138e92d0b3fb55128.jpg           1\n",
       "4  0014d7a11e90b62848904c1418fc8cf2.jpg           1"
      ]
     },
     "execution_count": 2,
     "metadata": {},
     "output_type": "execute_result"
    }
   ],
   "source": [
    "train_img_df = pd.read_csv('../input/train.csv')\n",
    "train_img_df.head()"
   ]
  },
  {
   "cell_type": "code",
   "execution_count": 3,
   "metadata": {},
   "outputs": [],
   "source": [
    "train_img_id = train_img_df.id.str.replace('.jpg','').tolist()"
   ]
  },
  {
   "cell_type": "code",
   "execution_count": 4,
   "metadata": {
    "_cell_guid": "79c7e3d0-c299-4dcb-8224-4455121ee9b0",
    "_uuid": "d629ff2d2480ee46fbb7e2d37f6b5fab8052498a"
   },
   "outputs": [
    {
     "name": "stderr",
     "output_type": "stream",
     "text": [
      "100%|██████████| 17500/17500 [00:21<00:00, 825.52it/s]\n"
     ]
    }
   ],
   "source": [
    "X_train = [np.array(load_img('../input/train/train/{}.jpg'.format(i),target_size=(32,32), grayscale=False))/255 for i in tqdm(train_img_id)]"
   ]
  },
  {
   "cell_type": "code",
   "execution_count": 5,
   "metadata": {},
   "outputs": [
    {
     "data": {
      "image/png": "[encoded data removed]",
      "text/plain": [
       "<Figure size 360x360 with 3 Axes>"
      ]
     },
     "metadata": {},
     "output_type": "display_data"
    }
   ],
   "source": [
    "plt.figure(figsize=(5, 5))\n",
    "for i in range(3):\n",
    "    plt.subplot(1, 3, i+1)\n",
    "    plt.imshow(X_train[i], interpolation='nearest', cmap='gray_r')\n",
    "    plt.axis('off')\n",
    "    \n",
    "plt.tight_layout()\n",
    "plt.show()"
   ]
  },
  {
   "cell_type": "code",
   "execution_count": 6,
   "metadata": {},
   "outputs": [
    {
     "data": {
      "text/plain": [
       "array([1, 0])"
      ]
     },
     "execution_count": 6,
     "metadata": {},
     "output_type": "execute_result"
    }
   ],
   "source": [
    "Y_train = train_img_df.has_cactus\n",
    "Y_train.unique()"
   ]
  },
  {
   "cell_type": "code",
   "execution_count": 7,
   "metadata": {},
   "outputs": [
    {
     "name": "stderr",
     "output_type": "stream",
     "text": [
      "100%|██████████| 4000/4000 [00:04<00:00, 826.78it/s]\n"
     ]
    }
   ],
   "source": [
    "test_img_df = pd.read_csv('../input/sample_submission.csv')\n",
    "test_img_id = test_img_df.id.str.replace('.jpg','').tolist()\n",
    "X_test = [np.array(load_img('../input/test/test/{}.jpg'.format(i),target_size=(32,32), grayscale=False))/255 for i in tqdm(test_img_id)]"
   ]
  },
  {
   "cell_type": "code",
   "execution_count": 8,
   "metadata": {},
   "outputs": [
    {
     "data": {
      "text/html": [
       "<div>\n",
       "<style scoped>\n",
       "    .dataframe tbody tr th:only-of-type {\n",
       "        vertical-align: middle;\n",
       "    }\n",
       "\n",
       "    .dataframe tbody tr th {\n",
       "        vertical-align: top;\n",
       "    }\n",
       "\n",
       "    .dataframe thead th {\n",
       "        text-align: right;\n",
       "    }\n",
       "</style>\n",
       "<table border=\"1\" class=\"dataframe\">\n",
       "  <thead>\n",
       "    <tr style=\"text-align: right;\">\n",
       "      <th></th>\n",
       "      <th>id</th>\n",
       "      <th>has_cactus</th>\n",
       "    </tr>\n",
       "  </thead>\n",
       "  <tbody>\n",
       "    <tr>\n",
       "      <th>0</th>\n",
       "      <td>000940378805c44108d287872b2f04ce.jpg</td>\n",
       "      <td>0.5</td>\n",
       "    </tr>\n",
       "    <tr>\n",
       "      <th>1</th>\n",
       "      <td>0017242f54ececa4512b4d7937d1e21e.jpg</td>\n",
       "      <td>0.5</td>\n",
       "    </tr>\n",
       "    <tr>\n",
       "      <th>2</th>\n",
       "      <td>001ee6d8564003107853118ab87df407.jpg</td>\n",
       "      <td>0.5</td>\n",
       "    </tr>\n",
       "    <tr>\n",
       "      <th>3</th>\n",
       "      <td>002e175c3c1e060769475f52182583d0.jpg</td>\n",
       "      <td>0.5</td>\n",
       "    </tr>\n",
       "    <tr>\n",
       "      <th>4</th>\n",
       "      <td>0036e44a7e8f7218e9bc7bf8137e4943.jpg</td>\n",
       "      <td>0.5</td>\n",
       "    </tr>\n",
       "  </tbody>\n",
       "</table>\n",
       "</div>"
      ],
      "text/plain": [
       "                                     id  has_cactus\n",
       "0  000940378805c44108d287872b2f04ce.jpg         0.5\n",
       "1  0017242f54ececa4512b4d7937d1e21e.jpg         0.5\n",
       "2  001ee6d8564003107853118ab87df407.jpg         0.5\n",
       "3  002e175c3c1e060769475f52182583d0.jpg         0.5\n",
       "4  0036e44a7e8f7218e9bc7bf8137e4943.jpg         0.5"
      ]
     },
     "execution_count": 8,
     "metadata": {},
     "output_type": "execute_result"
    }
   ],
   "source": [
    "test_img_df.head()"
   ]
  },
  {
   "cell_type": "code",
   "execution_count": 9,
   "metadata": {},
   "outputs": [
    {
     "data": {
      "text/plain": [
       "4714"
      ]
     },
     "execution_count": 9,
     "metadata": {},
     "output_type": "execute_result"
    }
   ],
   "source": [
    "gc.collect()"
   ]
  },
  {
   "cell_type": "markdown",
   "metadata": {},
   "source": [
    "## Build the Classfication model"
   ]
  },
  {
   "cell_type": "code",
   "execution_count": 10,
   "metadata": {},
   "outputs": [
    {
     "name": "stdout",
     "output_type": "stream",
     "text": [
      "WARNING:tensorflow:From /opt/conda/lib/python3.6/site-packages/tensorflow/python/framework/op_def_library.py:263: colocate_with (from tensorflow.python.framework.ops) is deprecated and will be removed in a future version.\n",
      "Instructions for updating:\n",
      "Colocations handled automatically by placer.\n",
      "WARNING:tensorflow:From /opt/conda/lib/python3.6/site-packages/keras/backend/tensorflow_backend.py:3445: calling dropout (from tensorflow.python.ops.nn_ops) with keep_prob is deprecated and will be removed in a future version.\n",
      "Instructions for updating:\n",
      "Please use `rate` instead of `keep_prob`. Rate should be set to `rate = 1 - keep_prob`.\n",
      "_________________________________________________________________\n",
      "Layer (type)                 Output Shape              Param #   \n",
      "=================================================================\n",
      "conv2d_1 (Conv2D)            (None, 32, 32, 64)        4864      \n",
      "_________________________________________________________________\n",
      "leaky_re_lu_1 (LeakyReLU)    (None, 32, 32, 64)        0         \n",
      "_________________________________________________________________\n",
      "batch_normalization_1 (Batch (None, 32, 32, 64)        256       \n",
      "_________________________________________________________________\n",
      "dropout_1 (Dropout)          (None, 32, 32, 64)        0         \n",
      "_________________________________________________________________\n",
      "conv2d_2 (Conv2D)            (None, 32, 32, 128)       204928    \n",
      "_________________________________________________________________\n",
      "leaky_re_lu_2 (LeakyReLU)    (None, 32, 32, 128)       0         \n",
      "_________________________________________________________________\n",
      "batch_normalization_2 (Batch (None, 32, 32, 128)       512       \n",
      "_________________________________________________________________\n",
      "dropout_2 (Dropout)          (None, 32, 32, 128)       0         \n",
      "_________________________________________________________________\n",
      "conv2d_3 (Conv2D)            (None, 32, 32, 128)       147584    \n",
      "_________________________________________________________________\n",
      "leaky_re_lu_3 (LeakyReLU)    (None, 32, 32, 128)       0         \n",
      "_________________________________________________________________\n",
      "batch_normalization_3 (Batch (None, 32, 32, 128)       512       \n",
      "_________________________________________________________________\n",
      "max_pooling2d_1 (MaxPooling2 (None, 16, 16, 128)       0         \n",
      "_________________________________________________________________\n",
      "conv2d_4 (Conv2D)            (None, 16, 16, 256)       295168    \n",
      "_________________________________________________________________\n",
      "leaky_re_lu_4 (LeakyReLU)    (None, 16, 16, 256)       0         \n",
      "_________________________________________________________________\n",
      "batch_normalization_4 (Batch (None, 16, 16, 256)       1024      \n",
      "_________________________________________________________________\n",
      "flatten_1 (Flatten)          (None, 65536)             0         \n",
      "_________________________________________________________________\n",
      "dense_1 (Dense)              (None, 128)               8388736   \n",
      "_________________________________________________________________\n",
      "leaky_re_lu_5 (LeakyReLU)    (None, 128)               0         \n",
      "_________________________________________________________________\n",
      "batch_normalization_5 (Batch (None, 128)               512       \n",
      "_________________________________________________________________\n",
      "dropout_3 (Dropout)          (None, 128)               0         \n",
      "_________________________________________________________________\n",
      "dense_2 (Dense)              (None, 1)                 129       \n",
      "_________________________________________________________________\n",
      "activation_1 (Activation)    (None, 1)                 0         \n",
      "=================================================================\n",
      "Total params: 9,044,225\n",
      "Trainable params: 9,042,817\n",
      "Non-trainable params: 1,408\n",
      "_________________________________________________________________\n"
     ]
    }
   ],
   "source": [
    "model = Sequential()\n",
    "model.add(Conv2D(64, (5,5), input_shape = (X_train[0].shape[0], X_train[0].shape[1], X_train[0].shape[2]), padding = 'same'))\n",
    "model.add(LeakyReLU(alpha=0.1))\n",
    "model.add(BatchNormalization())\n",
    "model.add(Dropout(0.2))\n",
    "\n",
    "model.add(Conv2D(128, (5,5), padding = 'same'))\n",
    "model.add(LeakyReLU())\n",
    "model.add(BatchNormalization())\n",
    "model.add(Dropout(0.2))\n",
    "\n",
    "model.add(Conv2D(128, (3,3), padding = 'same'))\n",
    "model.add(LeakyReLU(alpha=0.1))\n",
    "model.add(BatchNormalization())\n",
    "model.add(MaxPooling2D(pool_size =  (2,2)))\n",
    "\n",
    "model.add(Conv2D(256, (3,3), padding = 'same'))\n",
    "model.add(LeakyReLU(alpha=0.1))\n",
    "model.add(BatchNormalization())\n",
    "\n",
    "\n",
    "model.add(Flatten())\n",
    "\n",
    "model.add(Dense(128))\n",
    "model.add(LeakyReLU(alpha=0.1))\n",
    "model.add(BatchNormalization())\n",
    "model.add(Dropout(0.2))\n",
    "\n",
    "model.add(Dense(1))\n",
    "model.add(Activation('sigmoid'))\n",
    "\n",
    "model.summary()"
   ]
  },
  {
   "cell_type": "code",
   "execution_count": 11,
   "metadata": {},
   "outputs": [],
   "source": [
    "# Compile the model\n",
    "model.compile(loss=keras.losses.binary_crossentropy, metrics=['accuracy'], optimizer='adam')"
   ]
  },
  {
   "cell_type": "code",
   "execution_count": 12,
   "metadata": {},
   "outputs": [
    {
     "name": "stdout",
     "output_type": "stream",
     "text": [
      "WARNING:tensorflow:From /opt/conda/lib/python3.6/site-packages/tensorflow/python/ops/math_ops.py:3066: to_int32 (from tensorflow.python.ops.math_ops) is deprecated and will be removed in a future version.\n",
      "Instructions for updating:\n",
      "Use tf.cast instead.\n",
      "Epoch 1/50\n",
      "17500/17500 [==============================] - 13s 753us/step - loss: 0.1871 - acc: 0.9419\n",
      "Epoch 2/50\n",
      "17500/17500 [==============================] - 8s 450us/step - loss: 0.0846 - acc: 0.9709\n",
      "Epoch 3/50\n",
      "17500/17500 [==============================] - 8s 453us/step - loss: 0.0629 - acc: 0.9783\n",
      "Epoch 4/50\n",
      "17500/17500 [==============================] - 8s 454us/step - loss: 0.0431 - acc: 0.9846\n",
      "Epoch 5/50\n",
      "17500/17500 [==============================] - 8s 455us/step - loss: 0.0296 - acc: 0.9907\n",
      "Epoch 6/50\n",
      "17500/17500 [==============================] - 8s 456us/step - loss: 0.0263 - acc: 0.9919\n",
      "Epoch 7/50\n",
      "17500/17500 [==============================] - 8s 456us/step - loss: 0.0196 - acc: 0.9936\n",
      "Epoch 8/50\n",
      "17500/17500 [==============================] - 8s 455us/step - loss: 0.0101 - acc: 0.9966\n",
      "Epoch 9/50\n",
      "17500/17500 [==============================] - 8s 451us/step - loss: 0.0198 - acc: 0.9938\n",
      "Epoch 10/50\n",
      "17500/17500 [==============================] - 8s 450us/step - loss: 0.0073 - acc: 0.9974\n",
      "Epoch 11/50\n",
      "17500/17500 [==============================] - 8s 450us/step - loss: 0.0077 - acc: 0.9972\n",
      "Epoch 12/50\n",
      "17500/17500 [==============================] - 8s 450us/step - loss: 0.0047 - acc: 0.9985\n",
      "Epoch 13/50\n",
      "17500/17500 [==============================] - 8s 450us/step - loss: 0.0079 - acc: 0.9971\n",
      "Epoch 14/50\n",
      "17500/17500 [==============================] - 8s 454us/step - loss: 0.0067 - acc: 0.9975\n",
      "Epoch 15/50\n",
      "17500/17500 [==============================] - 8s 453us/step - loss: 0.0030 - acc: 0.9988\n",
      "Epoch 16/50\n",
      "17500/17500 [==============================] - 8s 457us/step - loss: 0.0041 - acc: 0.9988\n",
      "Epoch 17/50\n",
      "17500/17500 [==============================] - 8s 454us/step - loss: 0.0047 - acc: 0.9985\n",
      "Epoch 18/50\n",
      "17500/17500 [==============================] - 8s 451us/step - loss: 0.0138 - acc: 0.9960\n",
      "Epoch 19/50\n",
      "17500/17500 [==============================] - 8s 456us/step - loss: 0.0033 - acc: 0.9990\n",
      "Epoch 20/50\n",
      "17500/17500 [==============================] - 8s 454us/step - loss: 0.0025 - acc: 0.9994\n",
      "Epoch 21/50\n",
      "17500/17500 [==============================] - 8s 455us/step - loss: 7.6319e-04 - acc: 0.9999\n",
      "Epoch 22/50\n",
      "17500/17500 [==============================] - 8s 452us/step - loss: 3.1539e-04 - acc: 0.9999\n",
      "Epoch 23/50\n",
      "17500/17500 [==============================] - 8s 454us/step - loss: 0.0047 - acc: 0.9983\n",
      "Epoch 24/50\n",
      "17500/17500 [==============================] - 8s 454us/step - loss: 0.0090 - acc: 0.9971\n",
      "Epoch 25/50\n",
      "17500/17500 [==============================] - 8s 454us/step - loss: 0.0063 - acc: 0.9979\n",
      "Epoch 26/50\n",
      "17500/17500 [==============================] - 8s 455us/step - loss: 0.0016 - acc: 0.9994\n",
      "Epoch 27/50\n",
      "17500/17500 [==============================] - 8s 452us/step - loss: 0.0015 - acc: 0.9995\n",
      "Epoch 28/50\n",
      "17500/17500 [==============================] - 8s 453us/step - loss: 0.0013 - acc: 0.9995\n",
      "Epoch 29/50\n",
      "17500/17500 [==============================] - 8s 452us/step - loss: 0.0050 - acc: 0.9985\n",
      "Epoch 30/50\n",
      "17500/17500 [==============================] - 8s 455us/step - loss: 0.0049 - acc: 0.9983\n",
      "Epoch 31/50\n",
      "17500/17500 [==============================] - 8s 454us/step - loss: 0.0060 - acc: 0.9981\n",
      "Epoch 32/50\n",
      "17500/17500 [==============================] - 8s 454us/step - loss: 0.0019 - acc: 0.9991\n",
      "Epoch 33/50\n",
      "17500/17500 [==============================] - 8s 454us/step - loss: 0.0013 - acc: 0.9995\n",
      "Epoch 34/50\n",
      "17500/17500 [==============================] - 8s 455us/step - loss: 1.6131e-04 - acc: 1.0000\n",
      "Epoch 35/50\n",
      "17500/17500 [==============================] - 8s 452us/step - loss: 5.0562e-04 - acc: 0.9999\n",
      "Epoch 36/50\n",
      "17500/17500 [==============================] - 8s 453us/step - loss: 0.0021 - acc: 0.9993\n",
      "Epoch 37/50\n",
      "17500/17500 [==============================] - 8s 450us/step - loss: 0.0035 - acc: 0.9988\n",
      "Epoch 38/50\n",
      "17500/17500 [==============================] - 8s 450us/step - loss: 0.0050 - acc: 0.9983\n",
      "Epoch 39/50\n",
      "17500/17500 [==============================] - 8s 451us/step - loss: 0.0068 - acc: 0.9980\n",
      "Epoch 40/50\n",
      "17500/17500 [==============================] - 8s 454us/step - loss: 0.0021 - acc: 0.9993\n",
      "Epoch 41/50\n",
      "17500/17500 [==============================] - 8s 452us/step - loss: 3.7650e-04 - acc: 0.9999\n",
      "Epoch 42/50\n",
      "17500/17500 [==============================] - 8s 453us/step - loss: 6.7713e-04 - acc: 0.9998\n",
      "Epoch 43/50\n",
      "17500/17500 [==============================] - 8s 455us/step - loss: 2.6395e-04 - acc: 1.0000\n",
      "Epoch 44/50\n",
      "17500/17500 [==============================] - 8s 454us/step - loss: 0.0034 - acc: 0.9989\n",
      "Epoch 45/50\n",
      "17500/17500 [==============================] - 8s 456us/step - loss: 0.0063 - acc: 0.9980\n",
      "Epoch 46/50\n",
      "17500/17500 [==============================] - 8s 456us/step - loss: 0.0021 - acc: 0.9995\n",
      "Epoch 47/50\n",
      "17500/17500 [==============================] - 8s 451us/step - loss: 0.0017 - acc: 0.9993\n",
      "Epoch 48/50\n",
      "17500/17500 [==============================] - 8s 452us/step - loss: 3.7695e-04 - acc: 0.9999\n",
      "Epoch 49/50\n",
      "17500/17500 [==============================] - 8s 453us/step - loss: 5.3406e-04 - acc: 0.9999\n",
      "Epoch 50/50\n",
      "17500/17500 [==============================] - 8s 454us/step - loss: 0.0030 - acc: 0.9991\n"
     ]
    },
    {
     "data": {
      "text/plain": [
       "<keras.callbacks.History at 0x7f02fae9d780>"
      ]
     },
     "execution_count": 12,
     "metadata": {},
     "output_type": "execute_result"
    }
   ],
   "source": [
    "# Fit the model\n",
    "model.fit(np.array(X_train), Y_train, epochs = 50, batch_size = 100)"
   ]
  },
  {
   "cell_type": "code",
   "execution_count": 13,
   "metadata": {},
   "outputs": [
    {
     "name": "stdout",
     "output_type": "stream",
     "text": [
      "4000/4000 [==============================] - 1s 233us/step\n"
     ]
    }
   ],
   "source": [
    "predictions = model.predict(np.array(X_test), verbose = 1)"
   ]
  },
  {
   "cell_type": "code",
   "execution_count": 14,
   "metadata": {},
   "outputs": [
    {
     "data": {
      "text/plain": [
       "array([[1],\n",
       "       [1],\n",
       "       [0],\n",
       "       ...,\n",
       "       [1],\n",
       "       [1],\n",
       "       [1]])"
      ]
     },
     "execution_count": 14,
     "metadata": {},
     "output_type": "execute_result"
    }
   ],
   "source": [
    "predictions = predictions.round().astype(int)\n",
    "predictions"
   ]
  },
  {
   "cell_type": "code",
   "execution_count": 15,
   "metadata": {},
   "outputs": [
    {
     "name": "stderr",
     "output_type": "stream",
     "text": [
      "100%|██████████| 4000/4000 [00:02<00:00, 1828.98it/s]\n"
     ]
    }
   ],
   "source": [
    "for i, pre in enumerate(tqdm(predictions)):\n",
    "    test_img_df.loc[i, 'has_cactus'] = pre\n",
    "    "
   ]
  },
  {
   "cell_type": "code",
   "execution_count": 16,
   "metadata": {},
   "outputs": [
    {
     "data": {
      "text/html": [
       "<div>\n",
       "<style scoped>\n",
       "    .dataframe tbody tr th:only-of-type {\n",
       "        vertical-align: middle;\n",
       "    }\n",
       "\n",
       "    .dataframe tbody tr th {\n",
       "        vertical-align: top;\n",
       "    }\n",
       "\n",
       "    .dataframe thead th {\n",
       "        text-align: right;\n",
       "    }\n",
       "</style>\n",
       "<table border=\"1\" class=\"dataframe\">\n",
       "  <thead>\n",
       "    <tr style=\"text-align: right;\">\n",
       "      <th></th>\n",
       "      <th>id</th>\n",
       "      <th>has_cactus</th>\n",
       "    </tr>\n",
       "  </thead>\n",
       "  <tbody>\n",
       "    <tr>\n",
       "      <th>0</th>\n",
       "      <td>000940378805c44108d287872b2f04ce.jpg</td>\n",
       "      <td>1.0</td>\n",
       "    </tr>\n",
       "    <tr>\n",
       "      <th>1</th>\n",
       "      <td>0017242f54ececa4512b4d7937d1e21e.jpg</td>\n",
       "      <td>1.0</td>\n",
       "    </tr>\n",
       "    <tr>\n",
       "      <th>2</th>\n",
       "      <td>001ee6d8564003107853118ab87df407.jpg</td>\n",
       "      <td>0.0</td>\n",
       "    </tr>\n",
       "    <tr>\n",
       "      <th>3</th>\n",
       "      <td>002e175c3c1e060769475f52182583d0.jpg</td>\n",
       "      <td>0.0</td>\n",
       "    </tr>\n",
       "    <tr>\n",
       "      <th>4</th>\n",
       "      <td>0036e44a7e8f7218e9bc7bf8137e4943.jpg</td>\n",
       "      <td>1.0</td>\n",
       "    </tr>\n",
       "  </tbody>\n",
       "</table>\n",
       "</div>"
      ],
      "text/plain": [
       "                                     id  has_cactus\n",
       "0  000940378805c44108d287872b2f04ce.jpg         1.0\n",
       "1  0017242f54ececa4512b4d7937d1e21e.jpg         1.0\n",
       "2  001ee6d8564003107853118ab87df407.jpg         0.0\n",
       "3  002e175c3c1e060769475f52182583d0.jpg         0.0\n",
       "4  0036e44a7e8f7218e9bc7bf8137e4943.jpg         1.0"
      ]
     },
     "execution_count": 16,
     "metadata": {},
     "output_type": "execute_result"
    }
   ],
   "source": [
    "test_img_df.head()"
   ]
  },
  {
   "cell_type": "code",
   "execution_count": 17,
   "metadata": {},
   "outputs": [],
   "source": [
    "test_img_df.to_csv('first_submission.csv', index = False)"
   ]
  }
 ],
 "metadata": {
  "kernelspec": {
   "display_name": "Python 3",
   "language": "python",
   "name": "python3"
  },
  "language_info": {
   "codemirror_mode": {
    "name": "ipython",
    "version": 3
   },
   "file_extension": ".py",
   "mimetype": "text/x-python",
   "name": "python",
   "nbconvert_exporter": "python",
   "pygments_lexer": "ipython3",
   "version": "3.6.4"
  }
 },
 "nbformat": 4,
 "nbformat_minor": 1
}
